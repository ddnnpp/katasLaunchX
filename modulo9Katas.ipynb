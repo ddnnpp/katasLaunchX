{
 "cells": [
  {
   "cell_type": "markdown",
   "metadata": {},
   "source": [
    "# Funciones"
   ]
  },
  {
   "cell_type": "markdown",
   "metadata": {},
   "source": [
    "### Ejercicio 1: Trabajar con argumentos en funciones"
   ]
  },
  {
   "cell_type": "code",
   "execution_count": 1,
   "metadata": {},
   "outputs": [],
   "source": [
    "def fuelStatus(tank1, tank2, tank3):\n",
    "    average = (tank1 + tank2 + tank3) / 3\n",
    "    return f\"\"\" Fuel report:\n",
    "    Fuel status: {average}\n",
    "    Tank 1: {tank1}\n",
    "    Tank 2: {tank2}\n",
    "    Tank 3: {tank3}\n",
    "    \"\"\""
   ]
  },
  {
   "cell_type": "code",
   "execution_count": 2,
   "metadata": {},
   "outputs": [
    {
     "name": "stdout",
     "output_type": "stream",
     "text": [
      " Fuel report:\n",
      "    Fuel status: 43.333333333333336\n",
      "    Tank 1: 80\n",
      "    Tank 2: 30\n",
      "    Tank 3: 20\n",
      "    \n"
     ]
    }
   ],
   "source": [
    "print(fuelStatus(80, 30, 20))"
   ]
  },
  {
   "cell_type": "code",
   "execution_count": 7,
   "metadata": {},
   "outputs": [
    {
     "name": "stdout",
     "output_type": "stream",
     "text": [
      "60.0\n"
     ]
    }
   ],
   "source": [
    "def average(values): #Se pasa una lista\n",
    "    total = sum(values)\n",
    "    number = len(values)\n",
    "    average = total / number\n",
    "    return average\n",
    "\n",
    "print(average([90, 70, 20]))"
   ]
  },
  {
   "cell_type": "code",
   "execution_count": 9,
   "metadata": {},
   "outputs": [
    {
     "name": "stdout",
     "output_type": "stream",
     "text": [
      " Fuel report:\n",
      "    Fuel status: 60.0\n",
      "    Tank 1: 90\n",
      "    Tank 2: 70\n",
      "    Tank 3: 20\n",
      "    \n"
     ]
    }
   ],
   "source": [
    "def fuelStatus(tank1, tank2, tank3):\n",
    "    averagefun = average([tank1, tank2, tank3])\n",
    "    return f\"\"\" Fuel report:\n",
    "    Fuel status: {averagefun}\n",
    "    Tank 1: {tank1}\n",
    "    Tank 2: {tank2}\n",
    "    Tank 3: {tank3}\n",
    "    \"\"\"\n",
    "\n",
    "print(fuelStatus(90, 70, 20))"
   ]
  },
  {
   "cell_type": "markdown",
   "metadata": {},
   "source": [
    "### Ejercicio 2: Trabajar con argumentos de palabra clave"
   ]
  },
  {
   "cell_type": "code",
   "execution_count": 11,
   "metadata": {},
   "outputs": [
    {
     "name": "stdout",
     "output_type": "stream",
     "text": [
      "\n",
      "    Destination: ISS\n",
      "    Total mission time: 160 minutes\n",
      "    Total fuel: 85.0%\n",
      "    \n"
     ]
    }
   ],
   "source": [
    "def report(preLaunchTime, FlightTime, destination, externalTank, internalTank):\n",
    "    return f\"\"\"\n",
    "    Destination: {destination}\n",
    "    Total mission time: {preLaunchTime + FlightTime} minutes\n",
    "    Total fuel: {(externalTank + internalTank) / 2}%\n",
    "    \"\"\"\n",
    "\n",
    "print(report(40, 120, \"ISS\", 90, 80))"
   ]
  },
  {
   "cell_type": "code",
   "execution_count": 15,
   "metadata": {},
   "outputs": [
    {
     "name": "stdout",
     "output_type": "stream",
     "text": [
      "\n",
      "    Destination: ISS\n",
      "    Total mission time: 250 minutes\n",
      "    Total fuel: 80.0%\n",
      "    \n"
     ]
    }
   ],
   "source": [
    "def report(destination, *minutes, **fuel):\n",
    "    return f\"\"\"\n",
    "    Destination: {destination}\n",
    "    Total mission time: {sum(minutes)} minutes\n",
    "    Total fuel: {sum(fuel.values()) / len(fuel)}%\n",
    "    \"\"\"\n",
    "print(report(\"ISS\", 40, 120, 90, external=70, internal=90))"
   ]
  },
  {
   "cell_type": "code",
   "execution_count": 23,
   "metadata": {},
   "outputs": [
    {
     "name": "stdout",
     "output_type": "stream",
     "text": [
      "Destination: ISS\n",
      "Total mission time: 250 minutes\n",
      "Total fuel: 80.0%\n",
      "external status: 70%\n",
      "internal status: 90%\n",
      "\n"
     ]
    }
   ],
   "source": [
    "def report(destination, *minutes, **fuel):\n",
    "    detailReport = f\"\"\"Destination: {destination}\n",
    "Total mission time: {sum(minutes)} minutes\n",
    "Total fuel: {sum(fuel.values()) / len(fuel)}%\n",
    "\"\"\"\n",
    "    for tank, status in fuel.items():\n",
    "        detailReport += f\"{tank} status: {status}%\\n\"\n",
    "    return detailReport\n",
    "\n",
    "print(report(\"ISS\", 40, 120, 90, external=70, internal=90))"
   ]
  },
  {
   "cell_type": "code",
   "execution_count": null,
   "metadata": {},
   "outputs": [],
   "source": []
  }
 ],
 "metadata": {
  "interpreter": {
   "hash": "3fce05841e37017c6b5ed17d9a9c944c71942049f3bcbd5ed28e21f090ddf159"
  },
  "kernelspec": {
   "display_name": "Python 3.10.0 64-bit",
   "language": "python",
   "name": "python3"
  },
  "language_info": {
   "codemirror_mode": {
    "name": "ipython",
    "version": 3
   },
   "file_extension": ".py",
   "mimetype": "text/x-python",
   "name": "python",
   "nbconvert_exporter": "python",
   "pygments_lexer": "ipython3",
   "version": "3.10.0"
  },
  "orig_nbformat": 4
 },
 "nbformat": 4,
 "nbformat_minor": 2
}
